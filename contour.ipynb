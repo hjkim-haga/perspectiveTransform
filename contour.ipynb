{
 "cells": [
  {
   "cell_type": "code",
   "execution_count": 1,
   "metadata": {
    "collapsed": true
   },
   "outputs": [],
   "source": [
    "import cv2 as cv\n",
    "from matplotlib import pyplot as plt"
   ]
  },
  {
   "cell_type": "markdown",
   "source": [
    "# Edge detection"
   ],
   "metadata": {
    "collapsed": false,
    "pycharm": {
     "name": "#%% md\n"
    }
   }
  },
  {
   "cell_type": "code",
   "execution_count": 31,
   "outputs": [],
   "source": [
    "sample_file = 'test_data/doc1.jpg'\n",
    "\n",
    "img = cv.imread(sample_file)"
   ],
   "metadata": {
    "collapsed": false,
    "pycharm": {
     "name": "#%%\n"
    }
   }
  },
  {
   "cell_type": "markdown",
   "source": [
    "# Find contours\n",
    "\n",
    "`contours, hierarchy = cv.findContours(source_image, retrieval_mode, approximation_method)`"
   ],
   "metadata": {
    "collapsed": false,
    "pycharm": {
     "name": "#%% md\n"
    }
   }
  },
  {
   "cell_type": "code",
   "execution_count": 33,
   "outputs": [],
   "source": [
    "imgray = cv.cvtColor(img, cv.COLOR_BGR2GRAY)\n",
    "ret_grey, thresh_grey = cv.threshold(imgray, 127, 255, 0)"
   ],
   "metadata": {
    "collapsed": false,
    "pycharm": {
     "name": "#%%\n"
    }
   }
  },
  {
   "cell_type": "code",
   "execution_count": 34,
   "outputs": [],
   "source": [
    "contours, hierarchy = cv.findContours(thresh_grey, cv.RETR_TREE, cv.CHAIN_APPROX_SIMPLE)"
   ],
   "metadata": {
    "collapsed": false,
    "pycharm": {
     "name": "#%%\n"
    }
   }
  },
  {
   "cell_type": "markdown",
   "source": [
    "# Draw the found contours on the image"
   ],
   "metadata": {
    "collapsed": false
   }
  },
  {
   "cell_type": "code",
   "execution_count": 37,
   "outputs": [],
   "source": [
    "cv.imshow('contours', cv.drawContours(img, contours, -1, (0, 255, 0), 3))\n",
    "cv.waitKey(0)\n",
    "cv.destroyAllWindows()"
   ],
   "metadata": {
    "collapsed": false,
    "pycharm": {
     "name": "#%%\n"
    }
   }
  },
  {
   "cell_type": "markdown",
   "source": [
    "contour 중에서 글자를 포함하고 있는 것을 찾아야 한다.\n",
    " - condition: IoU(contour, characterPoly)  == area(characterPoly)\n",
    " - 순서:\n",
    "    1. 모든 `field`마다 소속 contours를 매긴다\n",
    "        (혹은 모든 contour마다 어떤 `field`가 들어가는지 매긴다)\n",
    "    2. field가 없는 contours를 지운다.\n",
    "    3.\n",
    "contour c1, c2는 둘 다 글자를 포함하고 있다. c1은 c2에 완전히 포함된다. 그러면 c2"
   ],
   "metadata": {
    "collapsed": false,
    "pycharm": {
     "name": "#%% md\n"
    }
   }
  },
  {
   "cell_type": "code",
   "execution_count": null,
   "outputs": [],
   "source": [
    "from typing import List\n",
    "from shapely.geometry import Polygon"
   ],
   "metadata": {
    "collapsed": false,
    "pycharm": {
     "name": "#%%\n"
    }
   }
  },
  {
   "cell_type": "code",
   "execution_count": null,
   "outputs": [],
   "source": [
    "p = Polygon([(1,1),(2,2),(4,2),(3,1)])\n",
    "q = Polygon([(1.5,2),(3,5),(5,4),(3.5,1)])\n",
    "print(p.intersects(q))  # True\n",
    "print(p.intersection(q).area)  # 1.0\n",
    "x = p.intersection(q)\n",
    "print(x) #POLYGON ((1.83333333"
   ],
   "metadata": {
    "collapsed": false,
    "pycharm": {
     "name": "#%%\n"
    }
   }
  },
  {
   "cell_type": "code",
   "execution_count": null,
   "outputs": [],
   "source": [
    "def intersection_over_iou(region1: List[int], region2: List[int]) -> float:\n",
    "    return 0.0\n",
    "\n",
    "def is_in_contour(field: dict, contour: list) -> bool:\n",
    "    return False\n",
    "\n",
    "\n",
    "fields = []\n",
    "in_contours = dict()  # key: field, value: list of contours where field lay.\n",
    "having_field = dict()  # key: contour, value: list of fields that are in the contour.\n",
    "# Computation heavy part. Should find other solutions.\n",
    "for field in fields:\n",
    "    for contour in contours:\n",
    "        if is_in_contour(field, contour):\n",
    "            in_contours[field].append(contour)\n",
    "            having_field[contour].append(field)"
   ],
   "metadata": {
    "collapsed": false,
    "pycharm": {
     "name": "#%%\n"
    }
   }
  }
 ],
 "metadata": {
  "kernelspec": {
   "display_name": "Python 3",
   "language": "python",
   "name": "python3"
  },
  "language_info": {
   "codemirror_mode": {
    "name": "ipython",
    "version": 2
   },
   "file_extension": ".py",
   "mimetype": "text/x-python",
   "name": "python",
   "nbconvert_exporter": "python",
   "pygments_lexer": "ipython2",
   "version": "2.7.6"
  }
 },
 "nbformat": 4,
 "nbformat_minor": 0
}