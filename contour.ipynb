{
 "cells": [
  {
   "cell_type": "code",
   "execution_count": 1,
   "metadata": {
    "collapsed": true
   },
   "outputs": [],
   "source": [
    "import os\n",
    "from pprint import PrettyPrinter\n",
    "\n",
    "import cv2 as cv\n",
    "import numpy as np\n",
    "\n",
    "pp = PrettyPrinter(indent=2, width=80)"
   ]
  },
  {
   "cell_type": "markdown",
   "source": [
    "# Edge detection"
   ],
   "metadata": {
    "collapsed": false,
    "pycharm": {
     "name": "#%% md\n"
    }
   }
  },
  {
   "cell_type": "code",
   "execution_count": 2,
   "outputs": [],
   "source": [
    "test_dir = 'test_data'\n",
    "sample_base = 'test'\n",
    "sample_img_file = os.path.join(test_dir, f'{sample_base}.jpg')\n",
    "\n",
    "img = cv.imread(sample_img_file)"
   ],
   "metadata": {
    "collapsed": false,
    "pycharm": {
     "name": "#%%\n"
    }
   }
  },
  {
   "cell_type": "markdown",
   "source": [
    "# Find contours\n",
    "\n",
    "`contours, hierarchy = cv.findContours(source_image, retrieval_mode, approximation_method)`"
   ],
   "metadata": {
    "collapsed": false,
    "pycharm": {
     "name": "#%% md\n"
    }
   }
  },
  {
   "cell_type": "code",
   "execution_count": 3,
   "outputs": [],
   "source": [
    "imgray = cv.cvtColor(img, cv.COLOR_BGR2GRAY)\n",
    "ret_grey, thresh_grey = cv.threshold(imgray, 127, 255, 0)"
   ],
   "metadata": {
    "collapsed": false,
    "pycharm": {
     "name": "#%%\n"
    }
   }
  },
  {
   "cell_type": "code",
   "execution_count": 4,
   "outputs": [],
   "source": [
    "contours, hierarchy = cv.findContours(thresh_grey, cv.RETR_TREE, cv.CHAIN_APPROX_SIMPLE)"
   ],
   "metadata": {
    "collapsed": false,
    "pycharm": {
     "name": "#%%\n"
    }
   }
  },
  {
   "cell_type": "markdown",
   "source": [
    "# Draw the found contours on the image"
   ],
   "metadata": {
    "collapsed": false
   }
  },
  {
   "cell_type": "code",
   "execution_count": 5,
   "outputs": [],
   "source": [
    "nth_contour = -1\n",
    "line_color = (0, 255, 0)\n",
    "thickness = 3"
   ],
   "metadata": {
    "collapsed": false,
    "pycharm": {
     "name": "#%%\n"
    }
   }
  },
  {
   "cell_type": "code",
   "execution_count": null,
   "outputs": [],
   "source": [
    "draw = cv.drawContours(img, contours, nth_contour, line_color, thickness)"
   ],
   "metadata": {
    "collapsed": false,
    "pycharm": {
     "name": "#%%\n"
    }
   }
  },
  {
   "cell_type": "code",
   "execution_count": 115,
   "outputs": [],
   "source": [
    "cv.imshow('contours', draw)\n",
    "cv.waitKey(0)\n",
    "cv.destroyAllWindows()"
   ],
   "metadata": {
    "collapsed": false,
    "pycharm": {
     "name": "#%%\n"
    }
   }
  },
  {
   "cell_type": "markdown",
   "source": [
    "contour 중에서 글자를 포함하고 있는 것을 찾아야 한다.\n",
    " - condition: IoU(contour, characterPoly)  == area(characterPoly)\n",
    " - 순서:\n",
    "    1. 모든 `field`마다 소속 contours를 매긴다\n",
    "        (혹은 모든 contour마다 어떤 `field`가 들어가는지 매긴다)\n",
    "    2. field가 없는 contours를 지운다.\n",
    "    3.\n",
    "contour c1, c2는 둘 다 글자를 포함하고 있다. c1은 c2에 완전히 포함된다. 그러면 c2"
   ],
   "metadata": {
    "collapsed": false,
    "pycharm": {
     "name": "#%% md\n"
    }
   }
  },
  {
   "cell_type": "code",
   "execution_count": 6,
   "outputs": [],
   "source": [
    "from collections import defaultdict\n",
    "\n",
    "from shapely.geometry import Polygon\n",
    "import parsing"
   ],
   "metadata": {
    "collapsed": false,
    "pycharm": {
     "name": "#%%\n"
    }
   }
  },
  {
   "cell_type": "code",
   "execution_count": 7,
   "outputs": [],
   "source": [
    "# Get the individual contour from `contours`.\n",
    "contours_valid = tuple(contour for contour in contours if len(contour) > 3)"
   ],
   "metadata": {
    "collapsed": false,
    "pycharm": {
     "name": "#%%\n"
    }
   }
  },
  {
   "cell_type": "code",
   "execution_count": 8,
   "outputs": [],
   "source": [
    "contours_valid_squeezed = [np.squeeze(contour, axis=1)\n",
    "                           for contour in contours_valid]"
   ],
   "metadata": {
    "collapsed": false,
    "pycharm": {
     "name": "#%%\n"
    }
   }
  },
  {
   "cell_type": "code",
   "execution_count": 9,
   "outputs": [],
   "source": [
    "contours_hashable = [\n",
    "    tuple(tuple(point) for point in contour)\n",
    "    for contour in contours_valid_squeezed\n",
    "]\n"
   ],
   "metadata": {
    "collapsed": false,
    "pycharm": {
     "name": "#%%\n"
    }
   }
  },
  {
   "cell_type": "code",
   "execution_count": 10,
   "outputs": [],
   "source": [
    "# Polygon에 맞는 형식으로 각 필드 변환.\n",
    "sample_ocr_file = f'test_data/{sample_base}.json'\n",
    "ocr_fields = parsing.parse_result(sample_ocr_file)\n",
    "\n",
    "for field in ocr_fields:\n",
    "    vertices = field['boundingPoly']['vertices']  # [좌상, 우상, 우하, 좌하]\n",
    "    inferText = field['inferText']\n",
    "    inferConfidence = field['inferConfidence']\n",
    "\n",
    "    field['boundingPoly'] = parsing.simplify_vertices(vertices)"
   ],
   "metadata": {
    "collapsed": false,
    "pycharm": {
     "name": "#%%\n"
    }
   }
  },
  {
   "cell_type": "code",
   "execution_count": 11,
   "outputs": [
    {
     "name": "stdout",
     "output_type": "stream",
     "text": [
      "{'valueType': 'ALL', 'boundingPoly': ((89.0, 85.0), (140.0, 85.0), (140.0, 115.0), (89.0, 115.0)), 'inferText': '내부', 'inferConfidence': 1.0, 'type': 'NORMAL', 'lineBreak': False}\n",
      "((0, 0), (0, 346), (500, 346), (500, 0))\n"
     ]
    }
   ],
   "source": [
    "print(ocr_fields[0])\n",
    "print(contours_hashable[0])"
   ],
   "metadata": {
    "collapsed": false,
    "pycharm": {
     "name": "#%%\n"
    }
   }
  },
  {
   "cell_type": "code",
   "execution_count": 12,
   "outputs": [],
   "source": [
    "in_contours = defaultdict(list)\n",
    "having_field = defaultdict(list)\n",
    "\n",
    "for fidx, field in enumerate(ocr_fields):\n",
    "    bounding_poly = Polygon(field['boundingPoly'])\n",
    "    for cidx, contour in enumerate(contours_hashable):\n",
    "        contour_poly = Polygon(contour)\n",
    "\n",
    "        if bounding_poly.intersection(contour_poly).area >= bounding_poly.area:\n",
    "            in_contours[fidx].append(contour)\n",
    "            having_field[contour].append(field)"
   ],
   "metadata": {
    "collapsed": false,
    "pycharm": {
     "name": "#%%\n"
    }
   }
  },
  {
   "cell_type": "markdown",
   "source": [
    "# 글자가 있는 영역만 필터링 됐는지 시각화"
   ],
   "metadata": {
    "collapsed": false,
    "pycharm": {
     "name": "#%% md\n"
    }
   }
  },
  {
   "cell_type": "code",
   "execution_count": 13,
   "outputs": [],
   "source": [
    "for contour in list(having_field.keys()):\n",
    "    contour = np.array([[list(point)] for point in contour])\n",
    "    break"
   ],
   "metadata": {
    "collapsed": false,
    "pycharm": {
     "name": "#%%\n"
    }
   }
  },
  {
   "cell_type": "code",
   "execution_count": 21,
   "outputs": [],
   "source": [
    "contours_with_character = [np.array([[list(point)] for point in contour])\n",
    "                           for contour in list(having_field.keys())]\n"
   ],
   "metadata": {
    "collapsed": false,
    "pycharm": {
     "name": "#%%\n"
    }
   }
  },
  {
   "cell_type": "code",
   "execution_count": 22,
   "outputs": [
    {
     "data": {
      "text/plain": "3"
     },
     "execution_count": 22,
     "metadata": {},
     "output_type": "execute_result"
    }
   ],
   "source": [
    "len(contours_with_character)"
   ],
   "metadata": {
    "collapsed": false,
    "pycharm": {
     "name": "#%%\n"
    }
   }
  },
  {
   "cell_type": "code",
   "execution_count": 23,
   "outputs": [],
   "source": [
    "draw = cv.drawContours(img, contours_with_character, -1, line_color, thickness)\n",
    "cv.imshow('contours only have characters in', draw)\n",
    "cv.waitKey(0)\n",
    "cv.destroyAllWindows()"
   ],
   "metadata": {
    "collapsed": false,
    "pycharm": {
     "name": "#%%\n"
    }
   }
  },
  {
   "cell_type": "markdown",
   "source": [
    "# 사각형 모양이 아닌 영역은 단순 도형으로 근사하기"
   ],
   "metadata": {
    "collapsed": false,
    "pycharm": {
     "name": "#%% md\n"
    }
   }
  },
  {
   "cell_type": "code",
   "execution_count": null,
   "outputs": [],
   "source": [
    "for cnt in contours:\n",
    "    epsilon = 0.02 * cv.arcLength(cnt, True)\n",
    "    approx = cv.approxPolyDP(cnt, epsilon, True)\n",
    "    print(len(approx))\n",
    "\n",
    "draw = cv.drawContours(img, [approx], 0, (0, 255, 255), 5)"
   ],
   "metadata": {
    "collapsed": false,
    "pycharm": {
     "name": "#%%\n"
    }
   }
  }
 ],
 "metadata": {
  "kernelspec": {
   "display_name": "Python 3",
   "language": "python",
   "name": "python3"
  },
  "language_info": {
   "codemirror_mode": {
    "name": "ipython",
    "version": 2
   },
   "file_extension": ".py",
   "mimetype": "text/x-python",
   "name": "python",
   "nbconvert_exporter": "python",
   "pygments_lexer": "ipython2",
   "version": "2.7.6"
  }
 },
 "nbformat": 4,
 "nbformat_minor": 0
}